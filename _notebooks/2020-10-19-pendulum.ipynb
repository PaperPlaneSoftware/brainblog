{
 "cells": [
  {
   "cell_type": "markdown",
   "metadata": {},
   "source": [
    "# Pendulum Dynamics"
   ]
  },
  {
   "cell_type": "markdown",
   "metadata": {},
   "source": [
    "If you read my article on Dynamic Systems you'll know by now that I think the concepts and tools of Dynamic Systems Theory are useful when trying to explain brain phenomena. That article also explained, in a rather abstract way, what Dynamic Systems are without actually giving a detailed example of one and how the theory of Dynamic Systems are put into practice."
   ]
  },
  {
   "cell_type": "markdown",
   "metadata": {},
   "source": [
    "With all that said, lets talk about pendulums!"
   ]
  },
  {
   "cell_type": "markdown",
   "metadata": {},
   "source": [
    "[image here]"
   ]
  },
  {
   "cell_type": "markdown",
   "metadata": {},
   "source": [
    "The diagram above shows a pendulum that's been lifted from it's resting place and let go to swing freely. I've made a few assumptions here, the first is that the pendulum's cord has a mass much less than that of it's bob, so small in fact that we can safely discount it from our calculations. The second is that the cord is completely rigid, it has no flex in it whatever. Lastly, I'm assuming that the pendulum is constrained to swing around a single axis meaining that it will swing in two-dimensions only."
   ]
  },
  {
   "cell_type": "markdown",
   "metadata": {},
   "source": [
    "Before we get any further into this article it's important to remind ourselves what we're trying to acheive."
   ]
  },
  {
   "cell_type": "markdown",
   "metadata": {},
   "source": [
    "When considering Dynamic Systems what we are asking oursleves is how the system evolves over time, in this case how the position of the bob changes over time. We're not interested in knowing where the bob is at any given time, that may not even be possible to know (take the famous three-body problem for example). Instead we're interested in the long term behaviour of a system, we ask questions like: \"will this system eventually come to rest, and if so, where?\", \"does this system exhibit cyclical behaviour\" and \"are there any periods of sensitivity in the system where small changes lead to vastly different results?\""
   ]
  },
  {
   "cell_type": "markdown",
   "metadata": {},
   "source": [
    "This article is a general exploration of the dynamics of pendula, we're not going to answer any question in particular, so starting with some basic expressions of moving bodies, such as Newton's 2nd law of motion, seems as good a place as any to begin. According to Newton."
   ]
  },
  {
   "cell_type": "markdown",
   "metadata": {},
   "source": [
    "\\begin{align}\n",
    "F = ma\n",
    "\\end{align}"
   ]
  },
  {
   "cell_type": "markdown",
   "metadata": {},
   "source": [
    "where $F$ is *force*, $m$ is the *mass* of the object in question and $a$ is it's *acceleration*. You often see this formulation in classical linear system like a ball rolling down a slope, but our pendulum is not a ball rolling down a slope, it's a ball rotating around a fixed point, so I'm going to introduce a similar and related equation for rotating objects."
   ]
  },
  {
   "cell_type": "markdown",
   "metadata": {},
   "source": [
    "\\begin{align}\n",
    "\\tau = I \\alpha\n",
    "\\end{align}"
   ]
  },
  {
   "cell_type": "markdown",
   "metadata": {},
   "source": [
    "In this equation $\\tau$ is *torque*, $I$ is the *moment of inertia* and $\\alpha$ is *angular acceleration*. If we take a closer look at what these quantities are you'll see the similarity to Newton's second law. Torque is an angular force or turning force, the angular acceleration is exactly what it sounds like - acceleration about a rotation point and the *moment of inertia* is the systems resistance to change, it's how much force is required to reach a particular angular acceleration in exactly the same way that mass defines the force required to reach a particular acceleration in a linear system."
   ]
  },
  {
   "cell_type": "markdown",
   "metadata": {},
   "source": [
    "\\begin{align}\n",
    "I = ml^2\n",
    "\\end{align}"
   ]
  },
  {
   "cell_type": "markdown",
   "metadata": {},
   "source": [
    "As I've already mentioned this article is an exploration of how pendula move over time. We're interested in how the bob's position changes over time, so it's the acceleration that's most important to us."
   ]
  },
  {
   "cell_type": "markdown",
   "metadata": {},
   "source": [
    "Let's begin then by deriving angular acceleration ($\\alpha$) from Newton's second law."
   ]
  },
  {
   "cell_type": "markdown",
   "metadata": {},
   "source": [
    "## Deriving $\\alpha$"
   ]
  },
  {
   "cell_type": "markdown",
   "metadata": {},
   "source": [
    "Once the pendulum is let go it will swing freely due to gravity. For the moment we will ignore air resistance, friction and so forth so that it is only gravity acting upon the pendulum. On Earth gravity accelerates objects toward the ground at approximately ___$9.81 ms^{-2}$___ and we label this constant $g$."
   ]
  },
  {
   "cell_type": "markdown",
   "metadata": {},
   "source": [
    "If our pendulum were hanging in it's resting place it would feel gravity pulling it directly down toward the ground, but our pendulum has been deflected away from this vector by angle $\\theta$ so, prevented from falling toward the Earth by it's cord our pendulum will instead be accelerated to it's resting place by portion or component $g$."
   ]
  },
  {
   "cell_type": "markdown",
   "metadata": {},
   "source": [
    "The diagram shows acceleration due to gravity $g$ and the component of this, labelled $a$ for acceleration, which is causing the pendulum to swing. As you can see, $g$ and $a$ form two sides of a right-angle triangle so we can use $\\theta$ and a little trigonometry to calculate the length of $a$ and therefore the magnitude of this acceleration."
   ]
  },
  {
   "cell_type": "markdown",
   "metadata": {},
   "source": [
    "\\begin{align}\n",
    "a = -g \\cdot sin(\\theta)\n",
    "\\end{align}"
   ]
  },
  {
   "cell_type": "markdown",
   "metadata": {},
   "source": [
    "You might be wondering where that minus came from? The pendulum will feel an acceleration toward it's resting place so it will always be opposite to the side of the diagram that the bob is on. For example, if the bob is to the right of the resting place $a$ will point to the left and vice-versa."
   ]
  },
  {
   "cell_type": "markdown",
   "metadata": {},
   "source": [
    "So far we've derived an equation which can be used to calculate the acceleration of a pendulum. The only problem is that the acceleration is linear. You can see from the diagram that the acceleration vector begins at the centre of the bob and points perpendicular to the cord towards the resting position. But we know that the pendulum cannot follow this path because it is constrained by it cord. Instead it will follow the green dotted curve which is a section of a circle centred at the pendulums axis of rotation with a radius of $l$."
   ]
  },
  {
   "cell_type": "markdown",
   "metadata": {},
   "source": [
    "As long as $\\theta$ is measured in radians it is simple to convert linear acceleration (the length of $a$) into angular acceleration (or arc-length which we shall label $\\alpha$)."
   ]
  },
  {
   "cell_type": "markdown",
   "metadata": {},
   "source": [
    "\\begin{align}\n",
    "s & = l \\theta \\\\\n",
    "v & = l \\frac{\\delta \\theta}{\\delta t} & = l \\dot \\theta \\\\\n",
    "a & = l \\frac{\\delta^{2} \\theta}{\\delta t^{2}} & = l \\ddot \\theta \\\\\n",
    "\\end{align}"
   ]
  },
  {
   "cell_type": "markdown",
   "metadata": {},
   "source": [
    "Where $s$ is arc length, $v$ is arc velocity (the first derivative of $s$) and $a$ is arc acceleration (the second derivate of $s$)."
   ]
  },
  {
   "cell_type": "markdown",
   "metadata": {},
   "source": [
    "\\begin{align}\n",
    "\\alpha = l \\ddot \\theta = -g \\cdot sin(\\theta)\n",
    "\\end{align}"
   ]
  },
  {
   "cell_type": "markdown",
   "metadata": {},
   "source": [
    "We've now derived $\\alpha$ from Newton's second law so we can substitute it back in to the equation for angular force or torque"
   ]
  },
  {
   "cell_type": "markdown",
   "metadata": {},
   "source": [
    "$$\n",
    "\\tau = I \\alpha = I(-g \\cdot sin(\\theta))\n",
    "$$"
   ]
  },
  {
   "cell_type": "markdown",
   "metadata": {},
   "source": [
    "We can clean this up a little with some basic algebra and further substitutions. I apollogies in advance for the following block of maths, but I want to show as clearly as possible each step required to reach the final form."
   ]
  },
  {
   "cell_type": "markdown",
   "metadata": {},
   "source": [
    "\\begin{align}\n",
    "I \\alpha &= I(-g \\cdot sin(\\theta)) \\Rightarrow \\\\\n",
    "Il \\ddot \\theta &= I(-g \\cdot sin(\\theta)) \\Rightarrow \\\\\n",
    "I \\ddot \\theta &= I(-\\frac{g}{l} \\cdot sin(\\theta)) \\Rightarrow \\\\\n",
    "I \\ddot \\theta &= ml^2(-\\frac{g}{l} \\cdot sin(\\theta)) \\Rightarrow \\\\\n",
    "I \\ddot \\theta &= -mlg \\cdot sin(\\theta) \\Rightarrow\n",
    "\\end{align}"
   ]
  },
  {
   "cell_type": "markdown",
   "metadata": {},
   "source": [
    "We can already see from the last equation above that a pendulum is a dynamic system because the change in $\\theta$ is dependent upon $\\theta$, ot to put it another way $\\theta_{t + 1}$ depends on $\\theta_t$."
   ]
  },
  {
   "cell_type": "markdown",
   "metadata": {},
   "source": [
    "## Damping & Control"
   ]
  },
  {
   "cell_type": "markdown",
   "metadata": {},
   "source": [
    "So far I haven't taken into account any other forces that might act on the pendulum. Apart from the initial force to turn the pendulum by $\\theta$ the only force acting on the pendulum is gravity. But we know in the real world there are many forces acting on the pendulum. We can break them into two groups; those forces that slow the pendulum down (damping) and those that speed it up (control)."
   ]
  },
  {
   "cell_type": "markdown",
   "metadata": {},
   "source": [
    "Damping forces are generated from things like friction and air resistence and although we could model them with complex non-linear functions we want to keep things simple, besides depending on the system a simple linear model may be more appropriate."
   ]
  },
  {
   "cell_type": "markdown",
   "metadata": {},
   "source": [
    "\\begin{align}\n",
    "Q = -cv\n",
    "\\end{align}"
   ]
  },
  {
   "cell_type": "markdown",
   "metadata": {},
   "source": [
    "Where $c$ is a damping coefficient which models the strength of the combined damping force and $v$ is the velocity, which in our case is the change in $\\theta$ over time which we write as $\\dot \\theta$. The minus sign is there because the damping force always acts to slow the pendulum down."
   ]
  },
  {
   "cell_type": "code",
   "execution_count": null,
   "metadata": {},
   "outputs": [],
   "source": []
  }
 ],
 "metadata": {
  "kernelspec": {
   "display_name": "Python 3",
   "language": "python",
   "name": "python3"
  },
  "language_info": {
   "codemirror_mode": {
    "name": "ipython",
    "version": 3
   },
   "file_extension": ".py",
   "mimetype": "text/x-python",
   "name": "python",
   "nbconvert_exporter": "python",
   "pygments_lexer": "ipython3",
   "version": "3.9.0"
  }
 },
 "nbformat": 4,
 "nbformat_minor": 4
}
